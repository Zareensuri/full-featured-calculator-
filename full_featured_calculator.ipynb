{
  "nbformat": 4,
  "nbformat_minor": 0,
  "metadata": {
    "colab": {
      "provenance": [],
      "toc_visible": true,
      "authorship_tag": "ABX9TyOrKU2+nSnXuM7VSygKxvZu",
      "include_colab_link": true
    },
    "kernelspec": {
      "name": "python3",
      "display_name": "Python 3"
    },
    "language_info": {
      "name": "python"
    }
  },
  "cells": [
    {
      "cell_type": "markdown",
      "metadata": {
        "id": "view-in-github",
        "colab_type": "text"
      },
      "source": [
        "<a href=\"https://colab.research.google.com/github/Zareensuri/full-featured-calculator-/blob/main/full_featured_calculator.ipynb\" target=\"_parent\"><img src=\"https://colab.research.google.com/assets/colab-badge.svg\" alt=\"Open In Colab\"/></a>"
      ]
    },
    {
      "cell_type": "code",
      "execution_count": null,
      "metadata": {
        "id": "jvQOU1wkNPq_"
      },
      "outputs": [],
      "source": [
        "import math\n",
        "\n",
        "def full_featured_calculator():\n",
        "    print(\"Welcome to the Full-Featured Calculator!\")\n",
        "    print(\"\"\"\n",
        "    Choose an operation:\n",
        "    1. Addition (+)\n",
        "    2. Subtraction (-)\n",
        "    3. Multiplication (*)\n",
        "    4. Division (/)\n",
        "    5. Exponentiation (^)\n",
        "    6. Square Root (sqrt)\n",
        "    7. Modulus (%)\n",
        "    8. Factorial (!)\n",
        "    \"\"\")\n",
        "\n",
        "    while True:\n",
        "        try:\n",
        "            # Taking user choice for operation\n",
        "            operation = input(\"Enter the number corresponding to the operation or type 'exit' to quit: \").strip().lower()\n",
        "\n",
        "            if operation == \"exit\":\n",
        "                print(\"Thank you for using the calculator. Goodbye!\")\n",
        "                break\n",
        "\n",
        "            if operation in [\"1\", \"2\", \"3\", \"4\", \"5\", \"7\"]:  # Operations requiring two numbers\n",
        "                num1 = float(input(\"Enter the first number: \"))\n",
        "                num2 = float(input(\"Enter the second number: \"))\n",
        "\n",
        "                if operation == \"1\":  # Addition\n",
        "                    result = num1 + num2\n",
        "                    op_symbol = \"+\"\n",
        "                elif operation == \"2\":  # Subtraction\n",
        "                    result = num1 - num2\n",
        "                    op_symbol = \"-\"\n",
        "                elif operation == \"3\":  # Multiplication\n",
        "                    result = num1 * num2\n",
        "                    op_symbol = \"*\"\n",
        "                elif operation == \"4\":  # Division\n",
        "                    if num2 != 0:\n",
        "                        result = num1 / num2\n",
        "                        op_symbol = \"/\"\n",
        "                    else:\n",
        "                        print(\"Error: Division by zero is not allowed.\")\n",
        "                        continue\n",
        "                elif operation == \"5\":  # Exponentiation\n",
        "                    result = num1 ** num2\n",
        "                    op_symbol = \"^\"\n",
        "                elif operation == \"7\":  # Modulus\n",
        "                    result = num1 % num2\n",
        "                    op_symbol = \"%\"\n",
        "\n",
        "                print(f\"The result of {num1} {op_symbol} {num2} is: {result}\")\n",
        "\n",
        "            elif operation == \"6\":  # Square Root\n",
        "                num = float(input(\"Enter the number: \"))\n",
        "                if num >= 0:\n",
        "                    result = math.sqrt(num)\n",
        "                    print(f\"The square root of {num} is: {result}\")\n",
        "                else:\n",
        "                    print(\"Error: Square root of a negative number is not defined.\")\n",
        "\n",
        "            elif operation == \"8\":  # Factorial\n",
        "                num = int(input(\"Enter a non-negative integer: \"))\n",
        "                if num >= 0:\n",
        "                    result = math.factorial(num)\n",
        "                    print(f\"The factorial of {num} is: {result}\")\n",
        "                else:\n",
        "                    print(\"Error: Factorial is not defined for negative numbers.\")\n",
        "\n",
        "            else:\n",
        "                print(\"Invalid operation. Please choose a valid option from the menu.\")\n",
        "\n",
        "        except ValueError:\n",
        "            print(\"Invalid input. Please enter numeric values where required.\")\n",
        "        except Exception as e:\n",
        "            print(f\"An unexpected error occurred: {e}\")\n",
        "\n",
        "        # Asking if the user wants to perform another calculation\n",
        "        again = input(\"Do you want to perform another calculation? (yes/no): \").strip().lower()\n",
        "        if again != \"yes\":\n",
        "            print(\"Thank you for using the calculator. Goodbye!\")\n",
        "            break\n",
        "\n",
        "# Run the calculator\n",
        "full_featured_calculator()\n"
      ]
    },
    {
      "cell_type": "code",
      "source": [],
      "metadata": {
        "id": "UbKZB6opPdAp"
      },
      "execution_count": null,
      "outputs": []
    }
  ]
}